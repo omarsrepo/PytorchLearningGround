{
  "nbformat": 4,
  "nbformat_minor": 0,
  "metadata": {
    "colab": {
      "provenance": [],
      "gpuType": "T4",
      "authorship_tag": "ABX9TyMWskwItAo940PxQNMi/Xii",
      "include_colab_link": true
    },
    "kernelspec": {
      "name": "python3",
      "display_name": "Python 3"
    },
    "language_info": {
      "name": "python"
    },
    "accelerator": "GPU"
  },
  "cells": [
    {
      "cell_type": "markdown",
      "metadata": {
        "id": "view-in-github",
        "colab_type": "text"
      },
      "source": [
        "<a href=\"https://colab.research.google.com/github/omarsrepo/PytorchLearningGround/blob/main/PyTorch_Learning_Ground.ipynb\" target=\"_parent\"><img src=\"https://colab.research.google.com/assets/colab-badge.svg\" alt=\"Open In Colab\"/></a>"
      ]
    },
    {
      "cell_type": "markdown",
      "source": [
        "# New Section"
      ],
      "metadata": {
        "id": "m9cJX9tSrGmf"
      }
    },
    {
      "cell_type": "code",
      "source": [
        "import torch #Importing the PyTorch Library"
      ],
      "metadata": {
        "id": "oVust8t2rICZ"
      },
      "execution_count": 16,
      "outputs": []
    },
    {
      "cell_type": "code",
      "source": [
        "!pip list #Shows all the packages installed in the active environment, in addition to the version numbers of those packages"
      ],
      "metadata": {
        "id": "sfnLDu4jsyWl"
      },
      "execution_count": null,
      "outputs": []
    },
    {
      "cell_type": "code",
      "source": [],
      "metadata": {
        "id": "gd7yMD_XtIbp"
      },
      "execution_count": null,
      "outputs": []
    }
  ]
}