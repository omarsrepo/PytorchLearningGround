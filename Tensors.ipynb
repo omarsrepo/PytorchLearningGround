{
  "nbformat": 4,
  "nbformat_minor": 0,
  "metadata": {
    "colab": {
      "provenance": [],
      "include_colab_link": true
    },
    "kernelspec": {
      "name": "python3",
      "display_name": "Python 3"
    },
    "language_info": {
      "name": "python"
    }
  },
  "cells": [
    {
      "cell_type": "markdown",
      "metadata": {
        "id": "view-in-github",
        "colab_type": "text"
      },
      "source": [
        "<a href=\"https://colab.research.google.com/github/omarsrepo/PytorchLearningGround/blob/main/Tensors.ipynb\" target=\"_parent\"><img src=\"https://colab.research.google.com/assets/colab-badge.svg\" alt=\"Open In Colab\"/></a>"
      ]
    },
    {
      "cell_type": "markdown",
      "source": [
        "# **TENSORS**\n",
        "\n",
        "*   A torch Tensor is a multi-dimensional matrix containing elements of a single data type.\n",
        "\n",
        "*   Similar To Numpy Arrays, but full of fun things that make them work better on GPU's (vs regular CPU's).\n",
        "\n",
        "*  default data type of float32.\n",
        "\n",
        "* More suitable for deep learning than a numpy array.\n",
        "\n",
        "\n",
        "\n",
        "\n",
        "\n"
      ],
      "metadata": {
        "id": "SPuFeQGa_B9v"
      }
    },
    {
      "cell_type": "code",
      "source": [
        "import torch\n",
        "import numpy as np"
      ],
      "metadata": {
        "id": "9M7GniiD_HDg"
      },
      "execution_count": 2,
      "outputs": []
    },
    {
      "cell_type": "markdown",
      "source": [
        "# **LISTS**\n"
      ],
      "metadata": {
        "id": "lBRfw7H0Afv3"
      }
    },
    {
      "cell_type": "code",
      "source": [
        "my_list = [[1,2,3,4,5], [6,7,8,9,10]]\n",
        "my_list\n"
      ],
      "metadata": {
        "id": "QiHJf-taAhCF",
        "colab": {
          "base_uri": "https://localhost:8080/"
        },
        "outputId": "c0f167d8-ad92-4370-bdac-7da69af85a80"
      },
      "execution_count": 22,
      "outputs": [
        {
          "output_type": "execute_result",
          "data": {
            "text/plain": [
              "[[1, 2, 3, 4, 5], [6, 7, 8, 9, 10]]"
            ]
          },
          "metadata": {},
          "execution_count": 22
        }
      ]
    },
    {
      "cell_type": "markdown",
      "source": [
        "# **NUMPY ARRAYS**"
      ],
      "metadata": {
        "id": "K6xTiYlzAj6f"
      }
    },
    {
      "cell_type": "code",
      "source": [
        "np1 = np.random.rand(3,4)\n",
        "np1\n"
      ],
      "metadata": {
        "id": "zqUEpvzhAltl",
        "colab": {
          "base_uri": "https://localhost:8080/"
        },
        "outputId": "978533fd-25a6-4a02-a54b-538f49741616"
      },
      "execution_count": 23,
      "outputs": [
        {
          "output_type": "execute_result",
          "data": {
            "text/plain": [
              "array([[0.21866542, 0.25729764, 0.46453164, 0.52248711],\n",
              "       [0.10703658, 0.70133499, 0.73958741, 0.59210189],\n",
              "       [0.13554746, 0.53182373, 0.92121479, 0.96686383]])"
            ]
          },
          "metadata": {},
          "execution_count": 23
        }
      ]
    },
    {
      "cell_type": "code",
      "source": [
        "np1.dtype\n"
      ],
      "metadata": {
        "id": "53ypJQHuAnmd",
        "colab": {
          "base_uri": "https://localhost:8080/"
        },
        "outputId": "df1d3565-bb15-4dbf-9fbf-2855fe06115d"
      },
      "execution_count": 24,
      "outputs": [
        {
          "output_type": "execute_result",
          "data": {
            "text/plain": [
              "dtype('float64')"
            ]
          },
          "metadata": {},
          "execution_count": 24
        }
      ]
    },
    {
      "cell_type": "markdown",
      "source": [
        "# **TENSORS**"
      ],
      "metadata": {
        "id": "zcdsJIdKAoVP"
      }
    },
    {
      "cell_type": "code",
      "source": [
        "#By default, we will always get a 1 dimensional array (1D) with a specified no of elements inside the array\n",
        "print(torch.randn(0))\n",
        "print()\n",
        "print(torch.randn(10))"
      ],
      "metadata": {
        "id": "Jz2m1DRWHqlm",
        "outputId": "e9644fdc-d23e-4ae9-8e53-3c2cb5c31a97",
        "colab": {
          "base_uri": "https://localhost:8080/"
        }
      },
      "execution_count": 20,
      "outputs": [
        {
          "output_type": "stream",
          "name": "stdout",
          "text": [
            "tensor([])\n",
            "\n",
            "tensor([ 0.5013, -1.5453,  0.8215,  1.3223, -1.9192,  1.4812, -0.0571,  1.1205,\n",
            "        -2.8760,  0.1723])\n"
          ]
        }
      ]
    },
    {
      "cell_type": "code",
      "source": [
        "#We now get a 2 dimensional array (2D) that contains 3 arrays with 4 items in each array (3x4)\n",
        "tensor_2d = torch.randn(3,4)\n",
        "print(tensor_2d)\n",
        "print()\n",
        "print(tensor_2d.shape)"
      ],
      "metadata": {
        "id": "Nscq13tnAqYU",
        "colab": {
          "base_uri": "https://localhost:8080/"
        },
        "outputId": "fbd68284-0f5b-49f3-ae90-a484ba3ec0a2"
      },
      "execution_count": 19,
      "outputs": [
        {
          "output_type": "stream",
          "name": "stdout",
          "text": [
            "tensor([[ 1.4438, -0.8203, -0.0238, -1.0910],\n",
            "        [ 0.1088,  0.4447,  0.4471,  0.8972],\n",
            "        [-1.5556,  0.7627,  1.7476, -0.0768]])\n",
            "\n",
            "torch.Size([3, 4])\n"
          ]
        }
      ]
    },
    {
      "cell_type": "code",
      "source": [
        "#We now get a 3 dimensional array (3D) that contains 2 arrays with 3 items in each array and 4 items in each of the 3 arrays (2x3x4)\n",
        "tensor_3d = torch.zeros(2,3,4)\n",
        "print(tensor_3d)"
      ],
      "metadata": {
        "colab": {
          "base_uri": "https://localhost:8080/"
        },
        "id": "5JXqtHcqDd-s",
        "outputId": "b4913941-196a-40d3-f13c-2f77d99c5aa1"
      },
      "execution_count": null,
      "outputs": [
        {
          "output_type": "execute_result",
          "data": {
            "text/plain": [
              "tensor([[[0., 0., 0., 0.],\n",
              "         [0., 0., 0., 0.],\n",
              "         [0., 0., 0., 0.]],\n",
              "\n",
              "        [[0., 0., 0., 0.],\n",
              "         [0., 0., 0., 0.],\n",
              "         [0., 0., 0., 0.]]])"
            ]
          },
          "metadata": {},
          "execution_count": 25
        }
      ]
    },
    {
      "cell_type": "code",
      "source": [
        "## Create tensor out of our earlier numpy array and this tensor will now adapt the float64 data type\n",
        "my_tensor = torch.tensor(np1)\n",
        "my_tensor"
      ],
      "metadata": {
        "colab": {
          "base_uri": "https://localhost:8080/"
        },
        "id": "WdKNvryyDvmE",
        "outputId": "8d40befb-b037-429e-fec9-d95960814ccb"
      },
      "execution_count": 25,
      "outputs": [
        {
          "output_type": "execute_result",
          "data": {
            "text/plain": [
              "tensor([[0.2187, 0.2573, 0.4645, 0.5225],\n",
              "        [0.1070, 0.7013, 0.7396, 0.5921],\n",
              "        [0.1355, 0.5318, 0.9212, 0.9669]], dtype=torch.float64)"
            ]
          },
          "metadata": {},
          "execution_count": 25
        }
      ]
    },
    {
      "cell_type": "code",
      "source": [],
      "metadata": {
        "id": "9f2vEWztHN3w"
      },
      "execution_count": null,
      "outputs": []
    }
  ]
}